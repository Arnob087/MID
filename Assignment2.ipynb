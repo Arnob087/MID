{
  "nbformat": 4,
  "nbformat_minor": 0,
  "metadata": {
    "colab": {
      "provenance": [],
      "gpuType": "T4",
      "authorship_tag": "ABX9TyMpEXL5UPDiyK45d3joLMiN",
      "include_colab_link": true
    },
    "kernelspec": {
      "name": "python3",
      "display_name": "Python 3"
    },
    "language_info": {
      "name": "python"
    },
    "accelerator": "GPU"
  },
  "cells": [
    {
      "cell_type": "markdown",
      "metadata": {
        "id": "view-in-github",
        "colab_type": "text"
      },
      "source": [
        "<a href=\"https://colab.research.google.com/github/Arnob087/Cvpr-MID/blob/main/Assignment2.ipynb\" target=\"_parent\"><img src=\"https://colab.research.google.com/assets/colab-badge.svg\" alt=\"Open In Colab\"/></a>"
      ]
    },
    {
      "cell_type": "code",
      "execution_count": null,
      "metadata": {
        "id": "U1JabM-Gn08Z"
      },
      "outputs": [],
      "source": [
        "import numpy as np\n",
        "import matplotlib.pyplot as plt\n",
        "from sklearn.datasets import make_classification\n",
        "from sklearn.model_selection import train_test_split\n",
        "from sklearn.metrics import classification_report, confusion_matrix\n"
      ]
    },
    {
      "cell_type": "code",
      "source": [
        "X, y = make_classification(n_samples=1000, n_features=20, n_classes=5,\n",
        "                           n_informative=15, n_redundant=5, random_state=42)\n",
        "\n",
        "Y = np.eye(5)[y]\n",
        "\n",
        "X_train, X_test, Y_train, Y_test = train_test_split(X, Y, test_size=0.2, random_state=42)\n"
      ],
      "metadata": {
        "id": "CNP0I4ruqdcA"
      },
      "execution_count": null,
      "outputs": []
    },
    {
      "cell_type": "code",
      "source": [
        "class NeuralNetwork:\n",
        "    def __init__(self, input_size, hidden_sizes, output_size, lr=0.01):\n",
        "        self.lr = lr\n",
        "        self.W1 = np.random.randn(input_size, hidden_sizes[0]) * np.sqrt(2. / input_size)\n",
        "        self.b1 = np.zeros((1, hidden_sizes[0]))\n",
        "\n",
        "        self.W2 = np.random.randn(hidden_sizes[0], hidden_sizes[1]) * np.sqrt(2. / hidden_sizes[0])\n",
        "        self.b2 = np.zeros((1, hidden_sizes[1]))\n",
        "\n",
        "        self.W3 = np.random.randn(hidden_sizes[1], hidden_sizes[2]) * np.sqrt(2. / hidden_sizes[1])\n",
        "        self.b3 = np.zeros((1, hidden_sizes[2]))\n",
        "\n",
        "        self.W4 = np.random.randn(hidden_sizes[2], output_size) * np.sqrt(2. / hidden_sizes[2])\n",
        "        self.b4 = np.zeros((1, output_size))\n",
        "\n",
        "    def relu(self, z):\n",
        "        return np.maximum(0, z)\n",
        "\n",
        "    def relu_derivative(self, z):\n",
        "        return (z > 0).astype(float)\n",
        "\n",
        "    def softmax(self, z):\n",
        "        z -= np.max(z, axis=1, keepdims=True)\n",
        "        exp_z = np.exp(z)\n",
        "        return exp_z / np.sum(exp_z, axis=1, keepdims=True)\n",
        "\n",
        "    def cross_entropy(self, y_true, y_pred):\n",
        "        m = y_true.shape[0]\n",
        "        epsilon = 1e-9\n",
        "        y_pred = np.clip(y_pred, epsilon, 1 - epsilon)\n",
        "        return -np.sum(y_true * np.log(y_pred)) / m\n",
        "\n",
        "    def forward(self, X):\n",
        "        self.Z1 = np.dot(X, self.W1) + self.b1\n",
        "        self.A1 = self.relu(self.Z1)\n",
        "\n",
        "        self.Z2 = np.dot(self.A1, self.W2) + self.b2\n",
        "        self.A2 = self.relu(self.Z2)\n",
        "\n",
        "        self.Z3 = np.dot(self.A2, self.W3) + self.b3\n",
        "        self.A3 = self.relu(self.Z3)\n",
        "\n",
        "        self.Z4 = np.dot(self.A3, self.W4) + self.b4\n",
        "        self.A4 = self.softmax(self.Z4)\n",
        "\n",
        "        return self.A4\n",
        "\n",
        "    def backward(self, X, Y, output):\n",
        "        m = X.shape[0]\n",
        "        dZ4 = output - Y\n",
        "        dW4 = (1/m) * np.dot(self.A3.T, dZ4)\n",
        "        db4 = (1/m) * np.sum(dZ4, axis=0, keepdims=True)\n",
        "\n",
        "        dA3 = np.dot(dZ4, self.W4.T)\n",
        "        dZ3 = dA3 * self.relu_derivative(self.Z3)\n",
        "        dW3 = (1/m) * np.dot(self.A2.T, dZ3)\n",
        "        db3 = (1/m) * np.sum(dZ3, axis=0, keepdims=True)\n",
        "\n",
        "        dA2 = np.dot(dZ3, self.W3.T)\n",
        "        dZ2 = dA2 * self.relu_derivative(self.Z2)\n",
        "        dW2 = (1/m) * np.dot(self.A1.T, dZ2)\n",
        "        db2 = (1/m) * np.sum(dZ2, axis=0, keepdims=True)\n",
        "\n",
        "        dA1 = np.dot(dZ2, self.W2.T)\n",
        "        dZ1 = dA1 * self.relu_derivative(self.Z1)\n",
        "        dW1 = (1/m) * np.dot(X.T, dZ1)\n",
        "        db1 = (1/m) * np.sum(dZ1, axis=0, keepdims=True)\n",
        "\n",
        "        self.W4 -= self.lr * dW4\n",
        "        self.b4 -= self.lr * db4\n",
        "        self.W3 -= self.lr * dW3\n",
        "        self.b3 -= self.lr * db3\n",
        "        self.W2 -= self.lr * dW2\n",
        "        self.b2 -= self.lr * db2\n",
        "        self.W1 -= self.lr * dW1\n",
        "        self.b1 -= self.lr * db1\n",
        "\n",
        "    def train(self, X, Y, epochs=1000):\n",
        "        losses = []\n",
        "        for i in range(epochs):\n",
        "            output = self.forward(X)\n",
        "            loss = self.cross_entropy(Y, output)\n",
        "            self.backward(X, Y, output)\n",
        "            if i % 100 == 0:\n",
        "                print(f\"Epoch {i}, Loss: {loss:.4f}\")\n",
        "            losses.append(loss)\n",
        "        return losses\n",
        "\n",
        "    def predict(self, X):\n",
        "        output = self.forward(X)\n",
        "        return np.argmax(output, axis=1)\n"
      ],
      "metadata": {
        "id": "kzgFO9DbqprV"
      },
      "execution_count": null,
      "outputs": []
    },
    {
      "cell_type": "code",
      "source": [
        "nn = NeuralNetwork(input_size=20, hidden_sizes=[128, 64, 132], output_size=5, lr=0.01)\n",
        "losses = nn.train(X_train, Y_train, epochs=1000)\n"
      ],
      "metadata": {
        "colab": {
          "base_uri": "https://localhost:8080/"
        },
        "id": "VrMP-wTLqvmu",
        "outputId": "6ad1c6e9-b1aa-49bd-86f1-05de203d339f"
      },
      "execution_count": null,
      "outputs": [
        {
          "output_type": "stream",
          "name": "stdout",
          "text": [
            "Epoch 0, Loss: 7.6914\n",
            "Epoch 100, Loss: 0.6408\n",
            "Epoch 200, Loss: 0.4257\n",
            "Epoch 300, Loss: 0.3158\n",
            "Epoch 400, Loss: 0.2452\n",
            "Epoch 500, Loss: 0.1935\n",
            "Epoch 600, Loss: 0.1551\n",
            "Epoch 700, Loss: 0.1261\n",
            "Epoch 800, Loss: 0.1039\n",
            "Epoch 900, Loss: 0.0866\n"
          ]
        }
      ]
    },
    {
      "cell_type": "code",
      "source": [
        "plt.plot(losses)\n",
        "plt.title(\"Training Loss over Epochs\")\n",
        "plt.xlabel(\"Epoch\")\n",
        "plt.ylabel(\"Cross-Entropy Loss\")\n",
        "plt.grid(True)\n",
        "plt.show()\n"
      ],
      "metadata": {
        "colab": {
          "base_uri": "https://localhost:8080/",
          "height": 472
        },
        "id": "4Bfqvuglq51_",
        "outputId": "ea475d3a-4305-4f99-ac59-a65004872af9"
      },
      "execution_count": null,
      "outputs": [
        {
          "output_type": "display_data",
          "data": {
            "text/plain": [
              "<Figure size 640x480 with 1 Axes>"
            ],
            "image/png": "[encoded data removed]"
          },
          "metadata": {}
        }
      ]
    },
    {
      "cell_type": "code",
      "source": [
        "y_pred = nn.predict(X_test)\n",
        "y_true = np.argmax(Y_test, axis=1)\n",
        "\n",
        "print(\"Classification Report:\")\n",
        "print(classification_report(y_true, y_pred))\n",
        "\n",
        "print(\"Confusion Matrix:\")\n",
        "print(confusion_matrix(y_true, y_pred))\n"
      ],
      "metadata": {
        "colab": {
          "base_uri": "https://localhost:8080/"
        },
        "id": "_TFFHB4Pq9Vs",
        "outputId": "55530cbf-6aaa-4e24-80a5-59801eccb56f"
      },
      "execution_count": null,
      "outputs": [
        {
          "output_type": "stream",
          "name": "stdout",
          "text": [
            "Classification Report:\n",
            "              precision    recall  f1-score   support\n",
            "\n",
            "           0       0.53      0.60      0.56        30\n",
            "           1       0.78      0.70      0.74        46\n",
            "           2       0.75      0.75      0.75        44\n",
            "           3       0.57      0.61      0.59        38\n",
            "           4       0.73      0.71      0.72        42\n",
            "\n",
            "    accuracy                           0.68       200\n",
            "   macro avg       0.67      0.67      0.67       200\n",
            "weighted avg       0.69      0.68      0.68       200\n",
            "\n",
            "Confusion Matrix:\n",
            "[[18  2  1  8  1]\n",
            " [ 1 32  6  3  4]\n",
            " [ 5  2 33  3  1]\n",
            " [ 7  2  1 23  5]\n",
            " [ 3  3  3  3 30]]\n"
          ]
        }
      ]
    }
  ]
}